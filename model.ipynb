{
 "cells": [
  {
   "cell_type": "markdown",
   "metadata": {},
   "source": [
    "IMPORTING MODULES"
   ]
  },
  {
   "cell_type": "code",
   "execution_count": 11,
   "metadata": {},
   "outputs": [],
   "source": [
    "import numpy as np\n",
    "import pandas as pd\n",
    "import tensorflow as tf\n",
    "from matplotlib import pyplot as plt\n",
    "import os"
   ]
  },
  {
   "cell_type": "markdown",
   "metadata": {},
   "source": [
    "IMPORTING DATASET"
   ]
  },
  {
   "cell_type": "code",
   "execution_count": 12,
   "metadata": {},
   "outputs": [],
   "source": [
    "train_df = pd.read_csv('/Users/alex/Desktop/projects/OCR/dataset/emnist-balanced-train.csv',header=None)\n",
    "test_df = pd.read_csv('/Users/alex/Desktop/projects/OCR/dataset/emnist-balanced-test.csv', header=None)"
   ]
  },
  {
   "cell_type": "code",
   "execution_count": 13,
   "metadata": {},
   "outputs": [
    {
     "data": {
      "text/html": [
       "<div>\n",
       "<style scoped>\n",
       "    .dataframe tbody tr th:only-of-type {\n",
       "        vertical-align: middle;\n",
       "    }\n",
       "\n",
       "    .dataframe tbody tr th {\n",
       "        vertical-align: top;\n",
       "    }\n",
       "\n",
       "    .dataframe thead th {\n",
       "        text-align: right;\n",
       "    }\n",
       "</style>\n",
       "<table border=\"1\" class=\"dataframe\">\n",
       "  <thead>\n",
       "    <tr style=\"text-align: right;\">\n",
       "      <th></th>\n",
       "      <th>0</th>\n",
       "      <th>1</th>\n",
       "      <th>2</th>\n",
       "      <th>3</th>\n",
       "      <th>4</th>\n",
       "      <th>5</th>\n",
       "      <th>6</th>\n",
       "      <th>7</th>\n",
       "      <th>8</th>\n",
       "      <th>9</th>\n",
       "      <th>...</th>\n",
       "      <th>775</th>\n",
       "      <th>776</th>\n",
       "      <th>777</th>\n",
       "      <th>778</th>\n",
       "      <th>779</th>\n",
       "      <th>780</th>\n",
       "      <th>781</th>\n",
       "      <th>782</th>\n",
       "      <th>783</th>\n",
       "      <th>784</th>\n",
       "    </tr>\n",
       "  </thead>\n",
       "  <tbody>\n",
       "    <tr>\n",
       "      <th>0</th>\n",
       "      <td>45</td>\n",
       "      <td>0</td>\n",
       "      <td>0</td>\n",
       "      <td>0</td>\n",
       "      <td>0</td>\n",
       "      <td>0</td>\n",
       "      <td>0</td>\n",
       "      <td>0</td>\n",
       "      <td>0</td>\n",
       "      <td>0</td>\n",
       "      <td>...</td>\n",
       "      <td>0</td>\n",
       "      <td>0</td>\n",
       "      <td>0</td>\n",
       "      <td>0</td>\n",
       "      <td>0</td>\n",
       "      <td>0</td>\n",
       "      <td>0</td>\n",
       "      <td>0</td>\n",
       "      <td>0</td>\n",
       "      <td>0</td>\n",
       "    </tr>\n",
       "    <tr>\n",
       "      <th>1</th>\n",
       "      <td>36</td>\n",
       "      <td>0</td>\n",
       "      <td>0</td>\n",
       "      <td>0</td>\n",
       "      <td>0</td>\n",
       "      <td>0</td>\n",
       "      <td>0</td>\n",
       "      <td>0</td>\n",
       "      <td>0</td>\n",
       "      <td>0</td>\n",
       "      <td>...</td>\n",
       "      <td>0</td>\n",
       "      <td>0</td>\n",
       "      <td>0</td>\n",
       "      <td>0</td>\n",
       "      <td>0</td>\n",
       "      <td>0</td>\n",
       "      <td>0</td>\n",
       "      <td>0</td>\n",
       "      <td>0</td>\n",
       "      <td>0</td>\n",
       "    </tr>\n",
       "    <tr>\n",
       "      <th>2</th>\n",
       "      <td>43</td>\n",
       "      <td>0</td>\n",
       "      <td>0</td>\n",
       "      <td>0</td>\n",
       "      <td>0</td>\n",
       "      <td>0</td>\n",
       "      <td>0</td>\n",
       "      <td>0</td>\n",
       "      <td>0</td>\n",
       "      <td>0</td>\n",
       "      <td>...</td>\n",
       "      <td>0</td>\n",
       "      <td>0</td>\n",
       "      <td>0</td>\n",
       "      <td>0</td>\n",
       "      <td>0</td>\n",
       "      <td>0</td>\n",
       "      <td>0</td>\n",
       "      <td>0</td>\n",
       "      <td>0</td>\n",
       "      <td>0</td>\n",
       "    </tr>\n",
       "    <tr>\n",
       "      <th>3</th>\n",
       "      <td>15</td>\n",
       "      <td>0</td>\n",
       "      <td>0</td>\n",
       "      <td>0</td>\n",
       "      <td>0</td>\n",
       "      <td>0</td>\n",
       "      <td>0</td>\n",
       "      <td>0</td>\n",
       "      <td>0</td>\n",
       "      <td>0</td>\n",
       "      <td>...</td>\n",
       "      <td>0</td>\n",
       "      <td>0</td>\n",
       "      <td>0</td>\n",
       "      <td>0</td>\n",
       "      <td>0</td>\n",
       "      <td>0</td>\n",
       "      <td>0</td>\n",
       "      <td>0</td>\n",
       "      <td>0</td>\n",
       "      <td>0</td>\n",
       "    </tr>\n",
       "    <tr>\n",
       "      <th>4</th>\n",
       "      <td>4</td>\n",
       "      <td>0</td>\n",
       "      <td>0</td>\n",
       "      <td>0</td>\n",
       "      <td>0</td>\n",
       "      <td>0</td>\n",
       "      <td>0</td>\n",
       "      <td>0</td>\n",
       "      <td>0</td>\n",
       "      <td>0</td>\n",
       "      <td>...</td>\n",
       "      <td>0</td>\n",
       "      <td>0</td>\n",
       "      <td>0</td>\n",
       "      <td>0</td>\n",
       "      <td>0</td>\n",
       "      <td>0</td>\n",
       "      <td>0</td>\n",
       "      <td>0</td>\n",
       "      <td>0</td>\n",
       "      <td>0</td>\n",
       "    </tr>\n",
       "  </tbody>\n",
       "</table>\n",
       "<p>5 rows × 785 columns</p>\n",
       "</div>"
      ],
      "text/plain": [
       "   0    1    2    3    4    5    6    7    8    9    ...  775  776  777  778  \\\n",
       "0   45    0    0    0    0    0    0    0    0    0  ...    0    0    0    0   \n",
       "1   36    0    0    0    0    0    0    0    0    0  ...    0    0    0    0   \n",
       "2   43    0    0    0    0    0    0    0    0    0  ...    0    0    0    0   \n",
       "3   15    0    0    0    0    0    0    0    0    0  ...    0    0    0    0   \n",
       "4    4    0    0    0    0    0    0    0    0    0  ...    0    0    0    0   \n",
       "\n",
       "   779  780  781  782  783  784  \n",
       "0    0    0    0    0    0    0  \n",
       "1    0    0    0    0    0    0  \n",
       "2    0    0    0    0    0    0  \n",
       "3    0    0    0    0    0    0  \n",
       "4    0    0    0    0    0    0  \n",
       "\n",
       "[5 rows x 785 columns]"
      ]
     },
     "execution_count": 13,
     "metadata": {},
     "output_type": "execute_result"
    }
   ],
   "source": [
    "train_df.head()"
   ]
  },
  {
   "cell_type": "markdown",
   "metadata": {},
   "source": [
    "PREPROCESS DATA"
   ]
  },
  {
   "cell_type": "code",
   "execution_count": 14,
   "metadata": {},
   "outputs": [],
   "source": [
    "#Defining train and test data\n",
    "x_train = train_df.drop(0, axis=1)\n",
    "y_train = train_df[0]\n",
    "x_test = test_df.drop(0, axis=1)\n",
    "y_test = test_df[0]"
   ]
  },
  {
   "cell_type": "code",
   "execution_count": 15,
   "metadata": {},
   "outputs": [
    {
     "data": {
      "text/plain": [
       "((112800, 28, 28), (18800, 28, 28), (112800,), (18800,))"
      ]
     },
     "execution_count": 15,
     "metadata": {},
     "output_type": "execute_result"
    }
   ],
   "source": [
    "#Reshaping data\n",
    "x_train = np.array(x_train).reshape((-1, 28, 28))\n",
    "x_test = np.array(x_test).reshape((-1, 28, 28))\n",
    "x_train.shape, x_test.shape, y_train.shape, y_test.shape"
   ]
  },
  {
   "cell_type": "code",
   "execution_count": 9,
   "metadata": {},
   "outputs": [
    {
     "data": {
      "text/plain": [
       "TensorShape([112800, 28, 28, 3])"
      ]
     },
     "execution_count": 9,
     "metadata": {},
     "output_type": "execute_result"
    }
   ],
   "source": [
    "#transforming 1 channel to RGB\n",
    "'''\n",
    "x_train_expanded = tf.expand_dims(x_train, axis=-1)\n",
    "x_train_rgb = tf.repeat(x_train_expanded, 3, axis=-1)\n",
    "x_test_expanded = tf.expand_dims(x_test, axis=-1)\n",
    "x_test_rgb = tf.repeat(x_test_expanded, 3, axis=-1)\n",
    "'''"
   ]
  },
  {
   "cell_type": "code",
   "execution_count": 16,
   "metadata": {},
   "outputs": [
    {
     "data": {
      "text/plain": [
       "0\n",
       "45    2400\n",
       "7     2400\n",
       "22    2400\n",
       "34    2400\n",
       "9     2400\n",
       "30    2400\n",
       "38    2400\n",
       "39    2400\n",
       "37    2400\n",
       "31    2400\n",
       "16    2400\n",
       "2     2400\n",
       "28    2400\n",
       "8     2400\n",
       "10    2400\n",
       "6     2400\n",
       "27    2400\n",
       "33    2400\n",
       "11    2400\n",
       "18    2400\n",
       "41    2400\n",
       "0     2400\n",
       "23    2400\n",
       "35    2400\n",
       "36    2400\n",
       "13    2400\n",
       "43    2400\n",
       "15    2400\n",
       "4     2400\n",
       "42    2400\n",
       "26    2400\n",
       "32    2400\n",
       "20    2400\n",
       "1     2400\n",
       "46    2400\n",
       "24    2400\n",
       "25    2400\n",
       "12    2400\n",
       "5     2400\n",
       "17    2400\n",
       "3     2400\n",
       "40    2400\n",
       "14    2400\n",
       "44    2400\n",
       "19    2400\n",
       "29    2400\n",
       "21    2400\n",
       "Name: count, dtype: int64"
      ]
     },
     "execution_count": 16,
     "metadata": {},
     "output_type": "execute_result"
    }
   ],
   "source": [
    "y_train.sort_index().value_counts()"
   ]
  },
  {
   "cell_type": "markdown",
   "metadata": {},
   "source": [
    "MODEL CREATION"
   ]
  },
  {
   "cell_type": "code",
   "execution_count": 22,
   "metadata": {},
   "outputs": [],
   "source": [
    "#importing transfer layer from keras\n",
    "'''\n",
    "transfer = tf.keras.applications.InceptionV3(input_shape=(75, 75, 3), weights='imagenet', include_top=False)\n",
    "transfer.trainable = False\n",
    "'''"
   ]
  },
  {
   "cell_type": "code",
   "execution_count": 22,
   "metadata": {},
   "outputs": [
    {
     "name": "stderr",
     "output_type": "stream",
     "text": [
      "WARNING:absl:At this time, the v2.11+ optimizer `tf.keras.optimizers.Adam` runs slowly on M1/M2 Macs, please use the legacy Keras optimizer instead, located at `tf.keras.optimizers.legacy.Adam`.\n"
     ]
    }
   ],
   "source": [
    "METRICS = ['accuracy']\n",
    "NUM_CLASSES = len(y_train.unique())\n",
    "\n",
    "def create_model(METRICS, NUM_CLASSES, LEARNING_RATE=1e-3):\n",
    "    #model creation function\n",
    "    model = tf.keras.models.Sequential([\n",
    "        #tf.keras.layers.Resizing(75, 75),\n",
    "        tf.keras.layers.Rescaling(1./255),\n",
    "        #transfer,\n",
    "        tf.keras.layers.Conv2D(64, (3, 3)),\n",
    "        tf.keras.layers.MaxPooling2D(),\n",
    "        tf.keras.layers.BatchNormalization(),\n",
    "        tf.keras.layers.Conv2D(128, (3, 3)),\n",
    "        tf.keras.layers.MaxPooling2D(),\n",
    "        tf.keras.layers.BatchNormalization(),\n",
    "        tf.keras.layers.Flatten(),\n",
    "        tf.keras.layers.Dense(1024, activation='relu'),\n",
    "        tf.keras.layers.Dropout(0.5),\n",
    "        tf.keras.layers.Dense(256, activation='relu'),\n",
    "        tf.keras.layers.Dropout(0.5),\n",
    "        tf.keras.layers.Dense(128, activation='relu'),\n",
    "        tf.keras.layers.Dense(NUM_CLASSES, activation='softmax'),\n",
    "    ])\n",
    "    model.build(input_shape=(None, 28, 28, 1))\n",
    "    model.compile(optimizer=tf.keras.optimizers.Adam(learning_rate=LEARNING_RATE),\n",
    "              loss='sparse_categorical_crossentropy',\n",
    "              metrics=METRICS)\n",
    "    return model\n",
    "\n",
    "model = create_model(METRICS=METRICS, NUM_CLASSES=NUM_CLASSES)"
   ]
  },
  {
   "cell_type": "markdown",
   "metadata": {},
   "source": [
    "MODEL TRAINING"
   ]
  },
  {
   "cell_type": "code",
   "execution_count": 23,
   "metadata": {},
   "outputs": [],
   "source": [
    "#callbacks\n",
    "model_checkpoint_callback = tf.keras.callbacks.ModelCheckpoint(filepath='model.h5', monitor='val_loss', verbose=1, save_best_only=True, mode='min')\n",
    "reduce_lr_callback = tf.keras.callbacks.ReduceLROnPlateau(monitor='val_loss', factor=0.2, patience=2, verbose=1, min_lr=0.0001)\n",
    "early_stopping_callback = tf.keras.callbacks.EarlyStopping(monitor='val_loss', patience=5, verbose=1, restore_best_weights=True)"
   ]
  },
  {
   "cell_type": "code",
   "execution_count": 24,
   "metadata": {},
   "outputs": [
    {
     "name": "stdout",
     "output_type": "stream",
     "text": [
      "Epoch 1/100\n",
      "705/705 [==============================] - ETA: 0s - loss: 1.2216 - accuracy: 0.6388\n",
      "Epoch 1: val_loss improved from inf to 0.54412, saving model to model.h5\n",
      "705/705 [==============================] - 46s 64ms/step - loss: 1.2216 - accuracy: 0.6388 - val_loss: 0.5441 - val_accuracy: 0.8202 - lr: 0.0010\n",
      "Epoch 2/100\n",
      "  2/705 [..............................] - ETA: 42s - loss: 0.7172 - accuracy: 0.7461"
     ]
    },
    {
     "name": "stderr",
     "output_type": "stream",
     "text": [
      "/opt/homebrew/lib/python3.11/site-packages/keras/src/engine/training.py:3079: UserWarning: You are saving your model as an HDF5 file via `model.save()`. This file format is considered legacy. We recommend using instead the native Keras format, e.g. `model.save('my_model.keras')`.\n",
      "  saving_api.save_model(\n"
     ]
    },
    {
     "name": "stdout",
     "output_type": "stream",
     "text": [
      "705/705 [==============================] - ETA: 0s - loss: 0.6749 - accuracy: 0.7823\n",
      "Epoch 2: val_loss improved from 0.54412 to 0.43039, saving model to model.h5\n",
      "705/705 [==============================] - 47s 66ms/step - loss: 0.6749 - accuracy: 0.7823 - val_loss: 0.4304 - val_accuracy: 0.8477 - lr: 0.0010\n",
      "Epoch 3/100\n",
      "705/705 [==============================] - ETA: 0s - loss: 0.5741 - accuracy: 0.8109\n",
      "Epoch 3: val_loss improved from 0.43039 to 0.41626, saving model to model.h5\n",
      "705/705 [==============================] - 49s 69ms/step - loss: 0.5741 - accuracy: 0.8109 - val_loss: 0.4163 - val_accuracy: 0.8576 - lr: 0.0010\n",
      "Epoch 4/100\n",
      "705/705 [==============================] - ETA: 0s - loss: 0.5156 - accuracy: 0.8282\n",
      "Epoch 4: val_loss improved from 0.41626 to 0.39538, saving model to model.h5\n",
      "705/705 [==============================] - 50s 71ms/step - loss: 0.5156 - accuracy: 0.8282 - val_loss: 0.3954 - val_accuracy: 0.8622 - lr: 0.0010\n",
      "Epoch 5/100\n",
      "705/705 [==============================] - ETA: 0s - loss: 0.4777 - accuracy: 0.8360\n",
      "Epoch 5: val_loss did not improve from 0.39538\n",
      "705/705 [==============================] - 50s 72ms/step - loss: 0.4777 - accuracy: 0.8360 - val_loss: 0.3980 - val_accuracy: 0.8588 - lr: 0.0010\n",
      "Epoch 6/100\n",
      "705/705 [==============================] - ETA: 0s - loss: 0.4452 - accuracy: 0.8472\n",
      "Epoch 6: val_loss improved from 0.39538 to 0.37257, saving model to model.h5\n",
      "705/705 [==============================] - 51s 73ms/step - loss: 0.4452 - accuracy: 0.8472 - val_loss: 0.3726 - val_accuracy: 0.8703 - lr: 0.0010\n",
      "Epoch 7/100\n",
      "705/705 [==============================] - ETA: 0s - loss: 0.4210 - accuracy: 0.8529\n",
      "Epoch 7: val_loss improved from 0.37257 to 0.36993, saving model to model.h5\n",
      "705/705 [==============================] - 52s 73ms/step - loss: 0.4210 - accuracy: 0.8529 - val_loss: 0.3699 - val_accuracy: 0.8701 - lr: 0.0010\n",
      "Epoch 8/100\n",
      "705/705 [==============================] - ETA: 0s - loss: 0.3996 - accuracy: 0.8597\n",
      "Epoch 8: val_loss improved from 0.36993 to 0.36674, saving model to model.h5\n",
      "705/705 [==============================] - 52s 74ms/step - loss: 0.3996 - accuracy: 0.8597 - val_loss: 0.3667 - val_accuracy: 0.8734 - lr: 0.0010\n",
      "Epoch 9/100\n",
      "705/705 [==============================] - ETA: 0s - loss: 0.3809 - accuracy: 0.8643\n",
      "Epoch 9: val_loss improved from 0.36674 to 0.36012, saving model to model.h5\n",
      "705/705 [==============================] - 52s 74ms/step - loss: 0.3809 - accuracy: 0.8643 - val_loss: 0.3601 - val_accuracy: 0.8733 - lr: 0.0010\n",
      "Epoch 10/100\n",
      "705/705 [==============================] - ETA: 0s - loss: 0.3726 - accuracy: 0.8670\n",
      "Epoch 10: val_loss did not improve from 0.36012\n",
      "705/705 [==============================] - 53s 75ms/step - loss: 0.3726 - accuracy: 0.8670 - val_loss: 0.3613 - val_accuracy: 0.8754 - lr: 0.0010\n",
      "Epoch 11/100\n",
      "705/705 [==============================] - ETA: 0s - loss: 0.3488 - accuracy: 0.8735\n",
      "Epoch 11: val_loss improved from 0.36012 to 0.35280, saving model to model.h5\n",
      "705/705 [==============================] - 53s 76ms/step - loss: 0.3488 - accuracy: 0.8735 - val_loss: 0.3528 - val_accuracy: 0.8755 - lr: 0.0010\n",
      "Epoch 12/100\n",
      "705/705 [==============================] - ETA: 0s - loss: 0.3407 - accuracy: 0.8765\n",
      "Epoch 12: val_loss did not improve from 0.35280\n",
      "705/705 [==============================] - 53s 75ms/step - loss: 0.3407 - accuracy: 0.8765 - val_loss: 0.3644 - val_accuracy: 0.8723 - lr: 0.0010\n",
      "Epoch 13/100\n",
      "705/705 [==============================] - ETA: 0s - loss: 0.3285 - accuracy: 0.8810\n",
      "Epoch 13: val_loss did not improve from 0.35280\n",
      "\n",
      "Epoch 13: ReduceLROnPlateau reducing learning rate to 0.00020000000949949026.\n",
      "705/705 [==============================] - 53s 76ms/step - loss: 0.3285 - accuracy: 0.8810 - val_loss: 0.3573 - val_accuracy: 0.8780 - lr: 0.0010\n",
      "Epoch 14/100\n",
      "705/705 [==============================] - ETA: 0s - loss: 0.2727 - accuracy: 0.8972\n",
      "Epoch 14: val_loss improved from 0.35280 to 0.33476, saving model to model.h5\n",
      "705/705 [==============================] - 54s 76ms/step - loss: 0.2727 - accuracy: 0.8972 - val_loss: 0.3348 - val_accuracy: 0.8845 - lr: 2.0000e-04\n",
      "Epoch 15/100\n",
      "705/705 [==============================] - ETA: 0s - loss: 0.2501 - accuracy: 0.9038\n",
      "Epoch 15: val_loss did not improve from 0.33476\n",
      "705/705 [==============================] - 54s 76ms/step - loss: 0.2501 - accuracy: 0.9038 - val_loss: 0.3386 - val_accuracy: 0.8840 - lr: 2.0000e-04\n",
      "Epoch 16/100\n",
      "705/705 [==============================] - ETA: 0s - loss: 0.2392 - accuracy: 0.9074\n",
      "Epoch 16: val_loss did not improve from 0.33476\n",
      "\n",
      "Epoch 16: ReduceLROnPlateau reducing learning rate to 0.0001.\n",
      "705/705 [==============================] - 54s 77ms/step - loss: 0.2392 - accuracy: 0.9074 - val_loss: 0.3433 - val_accuracy: 0.8856 - lr: 2.0000e-04\n",
      "Epoch 17/100\n",
      "705/705 [==============================] - ETA: 0s - loss: 0.2255 - accuracy: 0.9108\n",
      "Epoch 17: val_loss did not improve from 0.33476\n",
      "705/705 [==============================] - 54s 77ms/step - loss: 0.2255 - accuracy: 0.9108 - val_loss: 0.3422 - val_accuracy: 0.8856 - lr: 1.0000e-04\n",
      "Epoch 18/100\n",
      "705/705 [==============================] - ETA: 0s - loss: 0.2204 - accuracy: 0.9129\n",
      "Epoch 18: val_loss did not improve from 0.33476\n",
      "705/705 [==============================] - 54s 77ms/step - loss: 0.2204 - accuracy: 0.9129 - val_loss: 0.3437 - val_accuracy: 0.8851 - lr: 1.0000e-04\n",
      "Epoch 19/100\n",
      "705/705 [==============================] - ETA: 0s - loss: 0.2152 - accuracy: 0.9148\n",
      "Epoch 19: val_loss did not improve from 0.33476\n",
      "Restoring model weights from the end of the best epoch: 14.\n",
      "705/705 [==============================] - 55s 78ms/step - loss: 0.2152 - accuracy: 0.9148 - val_loss: 0.3464 - val_accuracy: 0.8866 - lr: 1.0000e-04\n",
      "Epoch 19: early stopping\n"
     ]
    }
   ],
   "source": [
    "EPOCHS = 100\n",
    "VALIDATION_SPLIT = 0.2\n",
    "BATCH_SIZE = 128\n",
    "CALLBACKS = [model_checkpoint_callback, reduce_lr_callback, early_stopping_callback]\n",
    "\n",
    "def train_model(x_train, y_train, epochs, validation_split, batch_size, callbacks):\n",
    "    hist = model.fit(x = x_train, y = y_train, epochs=epochs, validation_split=validation_split, batch_size=batch_size, callbacks=callbacks)\n",
    "    return hist\n",
    "\n",
    "history = train_model(x_train, y_train, EPOCHS, VALIDATION_SPLIT, BATCH_SIZE, CALLBACKS)\n"
   ]
  },
  {
   "cell_type": "markdown",
   "metadata": {},
   "source": [
    "MODEL EVALUATION"
   ]
  },
  {
   "cell_type": "code",
   "execution_count": 25,
   "metadata": {},
   "outputs": [
    {
     "name": "stdout",
     "output_type": "stream",
     "text": [
      "588/588 [==============================] - 4s 7ms/step - loss: 0.3484 - accuracy: 0.8831\n"
     ]
    },
    {
     "data": {
      "text/plain": [
       "[0.3484213650226593, 0.8831382989883423]"
      ]
     },
     "execution_count": 25,
     "metadata": {},
     "output_type": "execute_result"
    }
   ],
   "source": [
    "model.evaluate(x_test, y_test)"
   ]
  },
  {
   "cell_type": "code",
   "execution_count": 27,
   "metadata": {},
   "outputs": [
    {
     "data": {
      "image/png": "[encoded data removed]",
      "text/plain": [
       "<Figure size 640x480 with 1 Axes>"
      ]
     },
     "metadata": {},
     "output_type": "display_data"
    }
   ],
   "source": [
    "METRICS = ['accuracy', 'loss']\n",
    "def plot_metrics(hist, metrics):\n",
    "    for m in metrics:\n",
    "        plt.title(f'Training vs. Validation')\n",
    "        plt.xlabel('Epoch')\n",
    "        plt.plot(hist.epoch, hist.history[m], label=[m])\n",
    "        plt.plot(hist.epoch, hist.history[f'val_{m}'], label=[f'val_{m}'])\n",
    "        plt.legend()\n",
    "\n",
    "plot_metrics(history, METRICS)"
   ]
  },
  {
   "cell_type": "code",
   "execution_count": 77,
   "metadata": {},
   "outputs": [],
   "source": [
    "recoded = {0  : '0',1  : '1',2  : '2',3  :  '3',4  :  '4',5  :  '5',6  :  '6',7  :  '7',\n",
    "8  :  '8',9  :  '9',10 :  'A',11 :  'B',12 :  'C',13 :  'D',14 :  'E',15 :  'F',16 :  'G',\n",
    "17 :  'H',18 :  'I',19 :  'J',20 :  'K',21 :  'L',22 :  'M',23 :  'N',24 :  'O',25 :  'P',\n",
    "26 :  'Q',27 :  'R',28 :  'S',29 :  'T',30 :  'U',31 :  'V',32 :  'W',33 :  'X',34 :  'Y',\n",
    "35 :  'Z',36 :  'a',37 :  'b',38 :  'd',39 :  'e',40 :  'f',41 :  'g',42 :  'h',43 :  'n',\n",
    "44 :  'q',45 :  'r',46 :  't'}"
   ]
  },
  {
   "cell_type": "code",
   "execution_count": 84,
   "metadata": {},
   "outputs": [
    {
     "name": "stdout",
     "output_type": "stream",
     "text": [
      "1/1 [==============================] - 0s 13ms/step\n"
     ]
    },
    {
     "name": "stdout",
     "output_type": "stream",
     "text": [
      "1/1 [==============================] - 0s 13ms/step\n",
      "1/1 [==============================] - 0s 11ms/step\n",
      "1/1 [==============================] - 0s 10ms/step\n",
      "1/1 [==============================] - 0s 11ms/step\n",
      "1/1 [==============================] - 0s 11ms/step\n",
      "1/1 [==============================] - 0s 10ms/step\n",
      "1/1 [==============================] - 0s 11ms/step\n",
      "1/1 [==============================] - 0s 11ms/step\n"
     ]
    },
    {
     "data": {
      "image/png": "[encoded data removed]",
      "text/plain": [
       "<Figure size 500x600 with 9 Axes>"
      ]
     },
     "metadata": {},
     "output_type": "display_data"
    }
   ],
   "source": [
    "plt.figure(figsize=(5, 6))\n",
    "for i in range(9):\n",
    "    ax = plt.subplot(3, 3, i+1)\n",
    "    plt.imshow(x_test[i])\n",
    "    plt.axis('off')\n",
    "    actual_class = y_test[i]\n",
    "    actual_class = recoded[actual_class]\n",
    "    for_prediction = tf.expand_dims(x_test[i], axis=-1)\n",
    "    for_prediction = tf.expand_dims(for_prediction, axis=0)\n",
    "    predicted_class = model.predict(for_prediction)\n",
    "    predicted_class = np.argmax(predicted_class)\n",
    "    predicted_class = recoded[predicted_class]\n",
    "    plt.title(f'Actual:{actual_class} \\n Predicted: {predicted_class}')"
   ]
  },
  {
   "cell_type": "markdown",
   "metadata": {},
   "source": [
    "SAVE MODEL"
   ]
  },
  {
   "cell_type": "code",
   "execution_count": 28,
   "metadata": {},
   "outputs": [],
   "source": [
    "def save_model(filepath, model):\n",
    "    def find_index(filepath):\n",
    "        index = 0\n",
    "        while os.path.exists(os.path.join(filepath,f'model_{index}.keras')):\n",
    "            index += 1\n",
    "        return index\n",
    "    last_index = find_index(filepath)\n",
    "    savepath = os.path.join(filepath, f'model_{last_index}.keras')\n",
    "    result = model.save(savepath)\n",
    "    return result\n",
    "filepath = '/Users/alex/Desktop/projects/OCR/models'\n",
    "save_model(filepath, model)"
   ]
  }
 ],
 "metadata": {
  "kernelspec": {
   "display_name": "Python 3",
   "language": "python",
   "name": "python3"
  },
  "language_info": {
   "codemirror_mode": {
    "name": "ipython",
    "version": 3
   },
   "file_extension": ".py",
   "mimetype": "text/x-python",
   "name": "python",
   "nbconvert_exporter": "python",
   "pygments_lexer": "ipython3",
   "version": "3.11.6"
  }
 },
 "nbformat": 4,
 "nbformat_minor": 2
}
